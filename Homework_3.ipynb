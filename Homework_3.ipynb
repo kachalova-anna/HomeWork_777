{
 "cells": [
  {
   "cell_type": "markdown",
   "id": "8015c1dd",
   "metadata": {},
   "source": [
    "Задание 1"
   ]
  },
  {
   "cell_type": "code",
   "execution_count": 28,
   "id": "bf16d15c",
   "metadata": {},
   "outputs": [],
   "source": [
    "ids = {'user1': [213, 213, 213, 15, 213],\n",
    "'user2': [54, 54, 119, 119, 119],\n",
    "'user3': [213, 98, 98, 35]}\n"
   ]
  },
  {
   "cell_type": "code",
   "execution_count": 29,
   "id": "c0e1f739",
   "metadata": {},
   "outputs": [
    {
     "name": "stdout",
     "output_type": "stream",
     "text": [
      "{98, 35, 15, 213, 54, 119}\n"
     ]
    }
   ],
   "source": [
    "new_set = set()\n",
    "\n",
    "for el in ids.values():\n",
    "    new_set = new_set.union(el) \n",
    "print(new_set)\n"
   ]
  },
  {
   "cell_type": "code",
   "execution_count": 30,
   "id": "33b22548",
   "metadata": {},
   "outputs": [
    {
     "data": {
      "text/plain": [
       "{15, 35, 54, 98, 119, 213}"
      ]
     },
     "execution_count": 30,
     "metadata": {},
     "output_type": "execute_result"
    }
   ],
   "source": [
    "set(sum([el for el in ids.values()], []))"
   ]
  },
  {
   "cell_type": "markdown",
   "id": "fe3ffe60",
   "metadata": {},
   "source": [
    "Задание 2"
   ]
  },
  {
   "cell_type": "code",
   "execution_count": 2,
   "id": "755695ac",
   "metadata": {},
   "outputs": [],
   "source": [
    "queries = [\n",
    "    'смотреть сериалы онлайн',\n",
    "    'новости спорта',\n",
    "    'афиша кино',\n",
    "    'курс доллара',\n",
    "    'сериалы этим летом',\n",
    "    'курс по питону',\n",
    "    'сериалы про спорт',\n",
    "]"
   ]
  },
  {
   "cell_type": "code",
   "execution_count": 33,
   "id": "7271e117",
   "metadata": {},
   "outputs": [
    {
     "name": "stdout",
     "output_type": "stream",
     "text": [
      "Поисковых запросов, содержащих 3 слов(а): 57.14%\n",
      "Поисковых запросов, содержащих 2 слов(а): 42.86%\n"
     ]
    }
   ],
   "source": [
    "res = {}\n",
    "\n",
    "for row in queries:\n",
    "    \n",
    "#    print(len(row.split()))\n",
    "    if len(row.split()) in res:\n",
    "        res[len(row.split())] += 1\n",
    "    else:\n",
    "        res[len(row.split())] = 1\n",
    "#print(res)\n",
    "\n",
    "for key, value in res.items():\n",
    "    print(f'Поисковых запросов, содержащих {key} слов(а): {value/len(queries):.2%}')\n"
   ]
  },
  {
   "cell_type": "markdown",
   "id": "ba4ba64a",
   "metadata": {},
   "source": [
    "Задание 3. Необходимо дополнить исходную структуру показателем ROI, который рассчитаем по формуле: (revenue / cost - 1) * 100"
   ]
  },
  {
   "cell_type": "code",
   "execution_count": 2,
   "id": "5a5137a0",
   "metadata": {},
   "outputs": [],
   "source": [
    "results = {\n",
    "    'vk': {'revenue': 103, 'cost': 98},\n",
    "    'yandex': {'revenue': 179, 'cost': 153},\n",
    "    'facebook': {'revenue': 103, 'cost': 110},\n",
    "    'adwords': {'revenue': 35, 'cost': 34},\n",
    "    'twitter': {'revenue': 11, 'cost': 24},\n",
    "}"
   ]
  },
  {
   "cell_type": "code",
   "execution_count": 16,
   "id": "6d3867a6",
   "metadata": {},
   "outputs": [
    {
     "data": {
      "text/plain": [
       "[('adwords', {'ROI': 2.94, 'revenue': 35, 'cost': 34}),\n",
       " ('facebook', {'ROI': -6.36, 'revenue': 103, 'cost': 110}),\n",
       " ('twitter', {'ROI': -54.17, 'revenue': 11, 'cost': 24}),\n",
       " ('vk', {'ROI': 5.1, 'revenue': 103, 'cost': 98}),\n",
       " ('yandex', {'ROI': 16.99, 'revenue': 179, 'cost': 153})]"
      ]
     },
     "execution_count": 16,
     "metadata": {},
     "output_type": "execute_result"
    }
   ],
   "source": [
    "for company, info in results.items():\n",
    "    ROI_values = round((info['revenue'] / info['cost'] - 1) * 100, 2)\n",
    "    results[company] = {'ROI': ROI_values, 'revenue': info['revenue'], 'cost': info['cost']}\n",
    "sorted(results.items())"
   ]
  },
  {
   "cell_type": "markdown",
   "id": "36163ff9",
   "metadata": {},
   "source": [
    "Задание 4"
   ]
  },
  {
   "cell_type": "code",
   "execution_count": 18,
   "id": "50b6662e",
   "metadata": {},
   "outputs": [],
   "source": [
    "stats = {'facebook': 55, 'yandex': 115, 'vk': 120, 'google': 99, 'email': 42, 'ok': 98}"
   ]
  },
  {
   "cell_type": "code",
   "execution_count": 43,
   "id": "b250b381",
   "metadata": {},
   "outputs": [
    {
     "name": "stdout",
     "output_type": "stream",
     "text": [
      "Максимальный объем продаж на рекламном канале: vk\n"
     ]
    }
   ],
   "source": [
    "stats_new = sorted([(info, company) for company, info in stats.items()], reverse=True)\n",
    "#print(stats_new)\n",
    "\n",
    "print(f'Максимальный объем продаж на рекламном канале: {stats_new[0][1]}')"
   ]
  },
  {
   "cell_type": "code",
   "execution_count": 45,
   "id": "ca4c9d9f",
   "metadata": {},
   "outputs": [
    {
     "name": "stdout",
     "output_type": "stream",
     "text": [
      "Максимальный объем продаж на рекламном канале: vk\n"
     ]
    }
   ],
   "source": [
    "stats_new = [(info, company) for company, info in stats.items()]\n",
    "\n",
    "print(f'Максимальный объем продаж на рекламном канале: {max(stats_new)[1]}')"
   ]
  }
 ],
 "metadata": {
  "kernelspec": {
   "display_name": "Python 3",
   "language": "python",
   "name": "python3"
  },
  "language_info": {
   "codemirror_mode": {
    "name": "ipython",
    "version": 3
   },
   "file_extension": ".py",
   "mimetype": "text/x-python",
   "name": "python",
   "nbconvert_exporter": "python",
   "pygments_lexer": "ipython3",
   "version": "3.8.8"
  }
 },
 "nbformat": 4,
 "nbformat_minor": 5
}
