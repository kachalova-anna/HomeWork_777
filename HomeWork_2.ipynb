{
 "cells": [
  {
   "cell_type": "markdown",
   "id": "07899e74",
   "metadata": {},
   "source": [
    "Задание 1"
   ]
  },
  {
   "cell_type": "code",
   "execution_count": 6,
   "id": "ff5ea4ed",
   "metadata": {},
   "outputs": [
    {
     "name": "stdout",
     "output_type": "stream",
     "text": [
      "eb\n"
     ]
    }
   ],
   "source": [
    "word = 'notebook'\n",
    "\n",
    "if len(word) % 2 == 0:\n",
    "    print(word[len(word)//2-1:len(word)//2+1])\n",
    "else:\n",
    "    print(word[len(word)//2])"
   ]
  },
  {
   "cell_type": "markdown",
   "id": "7d2e2d70",
   "metadata": {},
   "source": [
    "Задание 2"
   ]
  },
  {
   "cell_type": "code",
   "execution_count": 21,
   "id": "22ff53a9",
   "metadata": {},
   "outputs": [
    {
     "name": "stdout",
     "output_type": "stream",
     "text": [
      "Введите число: 10\n",
      "Введите число: 20\n",
      "Введите число: 30\n",
      "Введите число: 0\n",
      "60\n"
     ]
    }
   ],
   "source": [
    "sum_ = 0\n",
    "n = int(input('Введите число: '))\n",
    "    \n",
    "while n != 0:\n",
    "    sum_ += n\n",
    "    n = int(input('Введите число: '))\n",
    "print(sum_)\n",
    "    "
   ]
  },
  {
   "cell_type": "markdown",
   "id": "ddea8cf3",
   "metadata": {},
   "source": [
    "Задание 3. не поняла ошибку ???"
   ]
  },
  {
   "cell_type": "code",
   "execution_count": 6,
   "id": "6d4cbebb",
   "metadata": {},
   "outputs": [
    {
     "ename": "SyntaxError",
     "evalue": "invalid syntax (<ipython-input-6-925807b2a98b>, line 6)",
     "output_type": "error",
     "traceback": [
      "\u001b[1;36m  File \u001b[1;32m\"<ipython-input-6-925807b2a98b>\"\u001b[1;36m, line \u001b[1;32m6\u001b[0m\n\u001b[1;33m    if len(boys) == len(girls):\u001b[0m\n\u001b[1;37m                              ^\u001b[0m\n\u001b[1;31mSyntaxError\u001b[0m\u001b[1;31m:\u001b[0m invalid syntax\n"
     ]
    }
   ],
   "source": [
    "boys = ['Peter', 'Alex', 'John', 'Arthur', 'Richard', 'Den']\n",
    "girls = ['Kate', 'Liza', 'Kira', 'Emma', 'Trisha', 'Anna']\n",
    "\n",
    "couple = zip(sorted(boys), sorted(girls)\n",
    "\n",
    "if len(boys) == len(girls):\n",
    "    print('Идеальные пары:')\n",
    "    for man, wman in couple:\n",
    "        print(f'{man} и {wman}')\n",
    "else:\n",
    "    print('Внимание, кто-то может остаться без пары!')"
   ]
  },
  {
   "cell_type": "markdown",
   "id": "b7a53947",
   "metadata": {},
   "source": [
    "Задание 3. Верно"
   ]
  },
  {
   "cell_type": "code",
   "execution_count": 10,
   "id": "26e8ac50",
   "metadata": {},
   "outputs": [
    {
     "name": "stdout",
     "output_type": "stream",
     "text": [
      "Идеальные пары:\n",
      "Alex и Anna\n",
      "Arthur и Emma\n",
      "Den и Kate\n",
      "John и Kira\n",
      "Peter и Liza\n",
      "Richard и Trisha\n"
     ]
    }
   ],
   "source": [
    "boys = ['Peter', 'Alex', 'John', 'Arthur', 'Richard', 'Den']\n",
    "girls = ['Kate', 'Liza', 'Kira', 'Emma', 'Trisha', 'Anna']\n",
    "\n",
    "if len(boys) == len(girls):\n",
    "    print('Идеальные пары:')\n",
    "    for man, wman in zip(sorted(boys), sorted(girls)):\n",
    "        print(f'{man} и {wman}')\n",
    "else:\n",
    "    print('Внимание, кто-то может остаться без пары!')"
   ]
  },
  {
   "cell_type": "code",
   "execution_count": 11,
   "id": "94b1b39b",
   "metadata": {},
   "outputs": [
    {
     "name": "stdout",
     "output_type": "stream",
     "text": [
      "Идеальные пары:\n",
      "Alex и Anna\n",
      "Arthur и Emma\n",
      "Den и Kate\n",
      "John и Kira\n",
      "Peter и Liza\n",
      "Richard и Trisha\n"
     ]
    }
   ],
   "source": [
    "if len(boys) == len(girls):\n",
    "    print('Идеальные пары:')\n",
    "    for el in zip(sorted(boys), sorted(girls)):\n",
    "        print(f'{el[0]} и {el[1]}')\n",
    "else:\n",
    "    print('Внимание, кто-то может остаться без пары!')"
   ]
  },
  {
   "cell_type": "markdown",
   "id": "a550360a",
   "metadata": {},
   "source": [
    "Задание 4 (формула перевода (1 °F − 32) × 5/9 = -17,22 °C)"
   ]
  },
  {
   "cell_type": "code",
   "execution_count": 43,
   "id": "54acf826",
   "metadata": {},
   "outputs": [
    {
     "name": "stdout",
     "output_type": "stream",
     "text": [
      "Средняя температура в странах:\n",
      "Thailand - 23.9 C\n",
      "Germany - 13.8 C\n",
      "Russia - 3.7 C\n",
      "Poland - 12.0 C\n"
     ]
    }
   ],
   "source": [
    "countries_temperature = [\n",
    "    ['Thailand', [75.2, 77, 78.8, 73.4, 68, 75.2, 77]],\n",
    "    ['Germany', [57.2, 55.4, 59, 59, 53.6]],\n",
    "    ['Russia', [35.6, 37.4, 39.2, 41, 42.8, 39.2, 35.6]],\n",
    "    ['Poland', [50, 50, 53.6, 57.2, 55.4, 55.4]]\n",
    "]\n",
    "\n",
    "print('Средняя температура в странах:')\n",
    "\n",
    "for country, temp in countries_temperature:\n",
    "    print (f'{country} - {(((sum(temp)/ len(temp))- 32)*5/9) :.1f} C')\n"
   ]
  },
  {
   "cell_type": "code",
   "execution_count": null,
   "id": "be4dcebb",
   "metadata": {},
   "outputs": [],
   "source": []
  },
  {
   "cell_type": "code",
   "execution_count": null,
   "id": "bca8657e",
   "metadata": {},
   "outputs": [],
   "source": []
  },
  {
   "cell_type": "markdown",
   "id": "b4fac72f",
   "metadata": {},
   "source": [
    "## Классная работа"
   ]
  },
  {
   "cell_type": "code",
   "execution_count": 2,
   "id": "fcfd08b7",
   "metadata": {},
   "outputs": [
    {
     "name": "stdout",
     "output_type": "stream",
     "text": [
      "56\n",
      "Введите число: 18\n",
      "Не угадал!\n",
      "Введите число: 25\n",
      "Не угадал!\n",
      "Введите число: 35\n",
      "Не угадал!\n",
      "Введите число: 45\n",
      "Не угадал!\n",
      "Введите число: 57\n",
      "Не угадал!\n",
      "Проиграл\n"
     ]
    }
   ],
   "source": [
    "import random\n",
    "\n",
    "number = random.randint(0, 100)\n",
    "print(number)\n",
    "\n",
    "tries = 0\n",
    "max_tries = 5\n",
    "\n",
    "while tries < max_tries:\n",
    "    user = int(input('Введите число: '))\n",
    "    tries += 1\n",
    "    if user != number:\n",
    "        print('Не угадал!')\n",
    "    else:\n",
    "        print('Угадал!')\n",
    "        break\n",
    "        \n",
    "if user != number:\n",
    "    print('Проиграл')"
   ]
  },
  {
   "cell_type": "markdown",
   "id": "90d74c40",
   "metadata": {},
   "source": [
    "Посчитать сумму элементов по главной диагонали"
   ]
  },
  {
   "cell_type": "code",
   "execution_count": 16,
   "id": "0c0bb834",
   "metadata": {},
   "outputs": [
    {
     "data": {
      "text/plain": [
       "103"
      ]
     },
     "execution_count": 16,
     "metadata": {},
     "output_type": "execute_result"
    }
   ],
   "source": [
    "data = [\n",
    "    [13, 25, 23, 34],\n",
    "    [45, 32, 44, 47],\n",
    "    [12, 33, 23, 95],\n",
    "    [13, 53, 34, 35]\n",
    "]\n",
    "sum_ = 0\n",
    "ind = 0\n",
    "\n",
    "for el in data:\n",
    "    sum_ += el[ind]\n",
    "    ind += 1\n",
    "sum_   "
   ]
  },
  {
   "cell_type": "code",
   "execution_count": 18,
   "id": "fef5b5d6",
   "metadata": {},
   "outputs": [
    {
     "data": {
      "text/plain": [
       "[(0, [13, 25, 23, 34]),\n",
       " (1, [45, 32, 44, 47]),\n",
       " (2, [12, 33, 23, 95]),\n",
       " (3, [13, 53, 34, 35])]"
      ]
     },
     "execution_count": 18,
     "metadata": {},
     "output_type": "execute_result"
    }
   ],
   "source": [
    "list(enumerate(data))"
   ]
  },
  {
   "cell_type": "code",
   "execution_count": 19,
   "id": "663824a2",
   "metadata": {},
   "outputs": [
    {
     "data": {
      "text/plain": [
       "103"
      ]
     },
     "execution_count": 19,
     "metadata": {},
     "output_type": "execute_result"
    }
   ],
   "source": [
    "sum([row[i] for i, row in enumerate(data)])\n",
    "    "
   ]
  },
  {
   "cell_type": "markdown",
   "id": "b55484d3",
   "metadata": {},
   "source": [
    "Посчитать сумму элементов по обратной диагонали"
   ]
  },
  {
   "cell_type": "code",
   "execution_count": 20,
   "id": "15279fca",
   "metadata": {},
   "outputs": [
    {
     "data": {
      "text/plain": [
       "124"
      ]
     },
     "execution_count": 20,
     "metadata": {},
     "output_type": "execute_result"
    }
   ],
   "source": [
    "sum([row[-i-1] for i, row in enumerate(data)])\n",
    "    "
   ]
  },
  {
   "cell_type": "code",
   "execution_count": null,
   "id": "29acf566",
   "metadata": {},
   "outputs": [],
   "source": [
    "professions = ['IT', 'Физика', 'Матем']\n",
    "person = [['Гейтс', 'Джобс', 'Возняк'], ['Эйнштейн', 'Фейнман'], ['Эвклид', 'Ньютон']]\n",
    "\n",
    "#prof_person = zip(professions, person)\n",
    "#list(prof_person)\n",
    "\n",
    "for prof, pers in zip(professions, person):\n",
    "    print(f\"{prof}:\")\n",
    "    for per in pers:\n",
    "        print(per)\n",
    "    print()"
   ]
  },
  {
   "cell_type": "code",
   "execution_count": null,
   "id": "700bef3d",
   "metadata": {},
   "outputs": [],
   "source": [
    "for prof, pers in zip(professions, person):\n",
    "    print(f\"{prof}:\")\n",
    "    print('\\n'.join(pers))\n",
    "    print()"
   ]
  }
 ],
 "metadata": {
  "kernelspec": {
   "display_name": "Python 3",
   "language": "python",
   "name": "python3"
  },
  "language_info": {
   "codemirror_mode": {
    "name": "ipython",
    "version": 3
   },
   "file_extension": ".py",
   "mimetype": "text/x-python",
   "name": "python",
   "nbconvert_exporter": "python",
   "pygments_lexer": "ipython3",
   "version": "3.8.8"
  }
 },
 "nbformat": 4,
 "nbformat_minor": 5
}
